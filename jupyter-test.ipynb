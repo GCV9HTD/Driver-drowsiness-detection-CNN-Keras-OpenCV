{
 "cells": [
  {
   "cell_type": "code",
   "execution_count": 4,
   "metadata": {},
   "outputs": [],
   "source": [
    "import os\n",
    "from keras.preprocessing import image\n",
    "import matplotlib.pyplot as plt\n",
    "import numpy as np\n",
    "from keras.utils.np_utils import to_categorical\n",
    "import random, shutil\n",
    "from keras.models import Sequential\n",
    "from keras.layers import Dropout, Conv2D, Flatten, Dense, MaxPooling2D, BatchNormalization\n",
    "from keras.models import load_model\n",
    "\n",
    "\n",
    "\n",
    "\n",
    "\n",
    "\n",
    "\n",
    "# img,labels= next(train_batch)\n",
    "# print(img.shape)\n",
    "\n",
    "\n",
    "\n"
   ]
  },
  {
   "cell_type": "code",
   "execution_count": 13,
   "metadata": {},
   "outputs": [],
   "source": [
    "def generator(dir, gen=image.ImageDataGenerator(rescale=1. / 255), shuffle=True, batch_size=1, target_size=(24, 24),\n",
    "              class_mode='categorical'):\n",
    "    return gen.flow_from_directory(dir, batch_size=batch_size, shuffle=shuffle, color_mode='grayscale',\n",
    "                                   class_mode=class_mode, target_size=target_size)"
   ]
  },
  {
   "cell_type": "code",
   "execution_count": 15,
   "metadata": {},
   "outputs": [
    {
     "name": "stdout",
     "output_type": "stream",
     "text": [
      "Found 200 images belonging to 2 classes.\n",
      "Found 0 images belonging to 0 classes.\n",
      "6 0\n"
     ]
    }
   ],
   "source": [
    "BS = 32\n",
    "TS = (24, 24)\n",
    "train_batch = generator('data/train', shuffle=True, batch_size=BS, target_size=TS)\n",
    "valid_batch = generator('data/test', shuffle=True, batch_size=BS, target_size=TS)\n",
    "SPE = len(train_batch.classes) // BS\n",
    "VS = len(valid_batch.classes) // BS\n",
    "print(SPE, VS)"
   ]
  },
  {
   "cell_type": "code",
   "execution_count": 17,
   "metadata": {},
   "outputs": [],
   "source": [
    "model = Sequential([\n",
    "    Conv2D(32, kernel_size=(3, 3), activation='relu', input_shape=(24, 24, 1)),\n",
    "    MaxPooling2D(pool_size=(1, 1)),\n",
    "    Conv2D(32, (3, 3), activation='relu'),\n",
    "    MaxPooling2D(pool_size=(1, 1)),\n",
    "    # 32 convolution filters used each of size 3x3\n",
    "    # again\n",
    "    Conv2D(64, (3, 3), activation='relu'),\n",
    "    MaxPooling2D(pool_size=(1, 1)),\n",
    "\n",
    "    # 64 convolution filters used each of size 3x3\n",
    "    # choose the best features via pooling\n",
    "\n",
    "    # randomly turn neurons on and off to improve convergence\n",
    "    Dropout(0.25),\n",
    "    # flatten since too many dimensions, we only want a classification output\n",
    "    Flatten(),\n",
    "    # fully connected to get all relevant data\n",
    "    Dense(128, activation='relu'),\n",
    "    # one more dropout for convergence' sake :)\n",
    "    Dropout(0.5),\n",
    "    # output a softmax to squash the matrix into output probabilities\n",
    "    Dense(2, activation='softmax')\n",
    "])"
   ]
  },
  {
   "cell_type": "code",
   "execution_count": 18,
   "metadata": {},
   "outputs": [],
   "source": [
    "model.compile(optimizer='adam', loss='categorical_crossentropy', metrics=['accuracy'])\n",
    "\n",
    "\n"
   ]
  },
  {
   "cell_type": "code",
   "execution_count": 19,
   "metadata": {},
   "outputs": [
    {
     "name": "stdout",
     "output_type": "stream",
     "text": [
      "Epoch 1/15\n",
      "6/6 [==============================] - 3s 577ms/step - loss: 0.7222 - accuracy: 0.5179\n",
      "Epoch 2/15\n",
      "6/6 [==============================] - 1s 151ms/step - loss: 0.6911 - accuracy: 0.5714\n",
      "Epoch 3/15\n",
      "6/6 [==============================] - 1s 146ms/step - loss: 0.6496 - accuracy: 0.5476\n",
      "Epoch 4/15\n",
      "6/6 [==============================] - 1s 150ms/step - loss: 0.6349 - accuracy: 0.6310\n",
      "Epoch 5/15\n",
      "6/6 [==============================] - 1s 159ms/step - loss: 0.6592 - accuracy: 0.5990\n",
      "Epoch 6/15\n",
      "6/6 [==============================] - 1s 151ms/step - loss: 0.5964 - accuracy: 0.6250\n",
      "Epoch 7/15\n",
      "6/6 [==============================] - 1s 148ms/step - loss: 0.5042 - accuracy: 0.7321\n",
      "Epoch 8/15\n",
      "6/6 [==============================] - 1s 151ms/step - loss: 0.4543 - accuracy: 0.7857\n",
      "Epoch 9/15\n",
      "6/6 [==============================] - 1s 147ms/step - loss: 0.3956 - accuracy: 0.82140s - loss: 0.3844 - accuracy: 0.86\n",
      "Epoch 10/15\n",
      "6/6 [==============================] - 1s 179ms/step - loss: 0.3715 - accuracy: 0.8036\n",
      "Epoch 11/15\n",
      "6/6 [==============================] - 1s 156ms/step - loss: 0.3355 - accuracy: 0.8571\n",
      "Epoch 12/15\n",
      "6/6 [==============================] - 1s 165ms/step - loss: 0.2462 - accuracy: 0.8958\n",
      "Epoch 13/15\n",
      "6/6 [==============================] - 1s 145ms/step - loss: 0.2841 - accuracy: 0.8929\n",
      "Epoch 14/15\n",
      "6/6 [==============================] - 1s 145ms/step - loss: 0.1800 - accuracy: 0.9167\n",
      "Epoch 15/15\n",
      "6/6 [==============================] - 1s 152ms/step - loss: 0.1719 - accuracy: 0.9405\n"
     ]
    },
    {
     "data": {
      "text/plain": [
       "<keras.callbacks.callbacks.History at 0x2a6dedae248>"
      ]
     },
     "execution_count": 19,
     "metadata": {},
     "output_type": "execute_result"
    }
   ],
   "source": [
    "model.fit_generator(train_batch, validation_data=valid_batch, epochs=15, steps_per_epoch=SPE, validation_steps=VS)\n"
   ]
  },
  {
   "cell_type": "code",
   "execution_count": 16,
   "metadata": {},
   "outputs": [],
   "source": [
    "model.save('cnnCat2.h5', overwrite=True)"
   ]
  },
  {
   "cell_type": "code",
   "execution_count": null,
   "metadata": {},
   "outputs": [],
   "source": []
  }
 ],
 "metadata": {
  "kernelspec": {
   "display_name": "Python 3",
   "language": "python",
   "name": "python3"
  },
  "language_info": {
   "codemirror_mode": {
    "name": "ipython",
    "version": 3
   },
   "file_extension": ".py",
   "mimetype": "text/x-python",
   "name": "python",
   "nbconvert_exporter": "python",
   "pygments_lexer": "ipython3",
   "version": "3.7.7"
  }
 },
 "nbformat": 4,
 "nbformat_minor": 4
}
